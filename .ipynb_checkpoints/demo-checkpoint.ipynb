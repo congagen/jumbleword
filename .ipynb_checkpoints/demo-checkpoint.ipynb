{
 "cells": [
  {
   "cell_type": "code",
   "execution_count": 10,
   "metadata": {},
   "outputs": [],
   "source": [
    "import sys\n",
    "import json\n",
    "import pprint\n",
    "\n",
    "from lib import utils\n",
    "from lib.gens import jumblers\n",
    "from lib.gens import markov\n",
    "from lib.gens import ml\n",
    "from lib.analysis import sentiment"
   ]
  },
  {
   "cell_type": "code",
   "execution_count": 11,
   "metadata": {},
   "outputs": [],
   "source": [
    "def main(args):\n",
    "    response = {}\n",
    "\n",
    "    with open(args[1]) as json_data:\n",
    "        order = json.load(json_data)\n",
    "\n",
    "    if \"w_mix\" in order.keys():\n",
    "        response[\"w_mix\"] = {}\n",
    "        wordlist_a = utils.path_to_wordlist(order[\"w_mix\"][\"wordlist_path_a\"])\n",
    "        wordlist_b = utils.path_to_wordlist(order[\"w_mix\"][\"wordlist_path_b\"])\n",
    "\n",
    "        if order[\"w_mix\"][\"word_count\"] > 0:\n",
    "            mixed = jumblers.word_mix(\n",
    "                wordlist_a[0],wordlist_b[0], int(order[\"w_mix\"][\"word_count\"]))\n",
    "\n",
    "            morph = jumblers.word_morph(\n",
    "                wordlist_a[0], wordlist_b[0], int(order[\"w_mix\"][\"word_count\"]))\n",
    "\n",
    "            response[\"w_mix\"][\"mixed\"] = utils.wash_wlist(mixed, order[\"w_mix\"][\"remove\"])\n",
    "            response[\"w_mix\"][\"morph\"] = utils.wash_wlist(morph, order[\"w_mix\"][\"remove\"])\n",
    "\n",
    "    if \"markov\" in order.keys():\n",
    "        i_text = order[\"markov\"][\"text\"]\n",
    "        response[\"markov\"] = markov.basic_gen(i_text)\n",
    "\n",
    "    if \"sentiment\" in order.keys():\n",
    "        i_text = order[\"sentiment\"][\"text\"]\n",
    "        response[\"sentiment\"] = sentiment.naive_text_score(i_text)\n",
    "\n",
    "    return response"
   ]
  },
  {
   "cell_type": "code",
   "execution_count": 13,
   "metadata": {},
   "outputs": [
    {
     "ename": "FileNotFoundError",
     "evalue": "[Errno 2] No such file or directory: 'e'",
     "output_type": "error",
     "traceback": [
      "\u001b[0;31m-------------------------------------------------------\u001b[0m",
      "\u001b[0;31mFileNotFoundError\u001b[0m     Traceback (most recent call last)",
      "\u001b[0;32m<ipython-input-13-eb4198bc16b1>\u001b[0m in \u001b[0;36m<module>\u001b[0;34m\u001b[0m\n\u001b[1;32m      1\u001b[0m \u001b[0;32mif\u001b[0m \u001b[0m__name__\u001b[0m \u001b[0;34m==\u001b[0m \u001b[0;34m\"__main__\"\u001b[0m\u001b[0;34m:\u001b[0m\u001b[0;34m\u001b[0m\u001b[0m\n\u001b[0;32m----> 2\u001b[0;31m     \u001b[0mpprint\u001b[0m\u001b[0;34m.\u001b[0m\u001b[0mpprint\u001b[0m\u001b[0;34m(\u001b[0m\u001b[0mmain\u001b[0m\u001b[0;34m(\u001b[0m\u001b[0;34m\"/examples/all.json\"\u001b[0m\u001b[0;34m)\u001b[0m\u001b[0;34m)\u001b[0m\u001b[0;34m\u001b[0m\u001b[0m\n\u001b[0m",
      "\u001b[0;32m<ipython-input-11-317f6b343231>\u001b[0m in \u001b[0;36mmain\u001b[0;34m(args)\u001b[0m\n\u001b[1;32m      2\u001b[0m     \u001b[0mresponse\u001b[0m \u001b[0;34m=\u001b[0m \u001b[0;34m{\u001b[0m\u001b[0;34m}\u001b[0m\u001b[0;34m\u001b[0m\u001b[0m\n\u001b[1;32m      3\u001b[0m \u001b[0;34m\u001b[0m\u001b[0m\n\u001b[0;32m----> 4\u001b[0;31m     \u001b[0;32mwith\u001b[0m \u001b[0mopen\u001b[0m\u001b[0;34m(\u001b[0m\u001b[0margs\u001b[0m\u001b[0;34m[\u001b[0m\u001b[0;36m1\u001b[0m\u001b[0;34m]\u001b[0m\u001b[0;34m)\u001b[0m \u001b[0;32mas\u001b[0m \u001b[0mjson_data\u001b[0m\u001b[0;34m:\u001b[0m\u001b[0;34m\u001b[0m\u001b[0m\n\u001b[0m\u001b[1;32m      5\u001b[0m         \u001b[0morder\u001b[0m \u001b[0;34m=\u001b[0m \u001b[0mjson\u001b[0m\u001b[0;34m.\u001b[0m\u001b[0mload\u001b[0m\u001b[0;34m(\u001b[0m\u001b[0mjson_data\u001b[0m\u001b[0;34m)\u001b[0m\u001b[0;34m\u001b[0m\u001b[0m\n\u001b[1;32m      6\u001b[0m \u001b[0;34m\u001b[0m\u001b[0m\n",
      "\u001b[0;31mFileNotFoundError\u001b[0m: [Errno 2] No such file or directory: 'e'"
     ]
    }
   ],
   "source": [
    "if __name__ == \"__main__\":\n",
    "    pprint.pprint(main(\"examples/all.json\"))"
   ]
  },
  {
   "cell_type": "code",
   "execution_count": null,
   "metadata": {},
   "outputs": [],
   "source": []
  },
  {
   "cell_type": "code",
   "execution_count": null,
   "metadata": {},
   "outputs": [],
   "source": []
  }
 ],
 "metadata": {
  "kernelspec": {
   "display_name": "Python 3",
   "language": "python",
   "name": "python3"
  },
  "language_info": {
   "codemirror_mode": {
    "name": "ipython",
    "version": 3
   },
   "file_extension": ".py",
   "mimetype": "text/x-python",
   "name": "python",
   "nbconvert_exporter": "python",
   "pygments_lexer": "ipython3",
   "version": "3.7.0"
  }
 },
 "nbformat": 4,
 "nbformat_minor": 2
}
